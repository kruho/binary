{
 "cells": [
  {
   "cell_type": "code",
   "execution_count": 1,
   "metadata": {
    "collapsed": true
   },
   "outputs": [],
   "source": [
    "import numpy as np\n",
    "import struct\n",
    "import sys"
   ]
  },
  {
   "cell_type": "markdown",
   "metadata": {},
   "source": [
    " The form '!' is available for those poor souls who claim they can’t remember whether network byte order is big-endian or little-endian.\n",
    " https://docs.python.org/2.7/library/struct.html#byte-order-size-and-alignment\n",
    " \n",
    " モトローラー系とインテル系のバイトオーダーが逆"
   ]
  },
  {
   "cell_type": "code",
   "execution_count": 2,
   "metadata": {
    "collapsed": false
   },
   "outputs": [
    {
     "name": "stdout",
     "output_type": "stream",
     "text": [
      "little\n"
     ]
    }
   ],
   "source": [
    "# システムのバイトオーダーを表示\n",
    "print sys.byteorder"
   ]
  },
  {
   "cell_type": "code",
   "execution_count": 3,
   "metadata": {
    "collapsed": false
   },
   "outputs": [],
   "source": [
    "def string_byte(string_data):\n",
    "    if isinstance(string_data, unicode):\n",
    "        print 'unicode'\n",
    "    elif isinstance(string_data, str):\n",
    "        print 'str'\n",
    "    \n",
    "    orded = ord(string_data)\n",
    "    print \"文字   \", string_data\n",
    "    print \"10進数 \", orded\n",
    "    print \"16進数  0x{0:X}\".format(orded)\n",
    "    if isinstance(string_data, unicode):\n",
    "        print \"逆変換 \", unichr(orded)\n",
    "    elif isinstance(string_data, str):\n",
    "        print \"逆変換 \", chr(orded)\n",
    "    print"
   ]
  },
  {
   "cell_type": "markdown",
   "metadata": {},
   "source": [
    "len は、文字列の場合はバイト数、Unicode文字列の場合は文字数が取得できる"
   ]
  },
  {
   "cell_type": "code",
   "execution_count": 23,
   "metadata": {
    "collapsed": false
   },
   "outputs": [
    {
     "name": "stdout",
     "output_type": "stream",
     "text": [
      "<type 'str'>\n",
      "<type 'unicode'>\n"
     ]
    }
   ],
   "source": [
    "print type(\"あ\") # string型\n",
    "print type(u\"あ\") # unicode型"
   ]
  },
  {
   "cell_type": "code",
   "execution_count": 4,
   "metadata": {
    "collapsed": false
   },
   "outputs": [
    {
     "name": "stdout",
     "output_type": "stream",
     "text": [
      "3\n",
      "1\n"
     ]
    }
   ],
   "source": [
    "print len(\"あ\") # バイト数\n",
    "print len(u\"あ\") # 文字列の長さ"
   ]
  },
  {
   "cell_type": "code",
   "execution_count": 24,
   "metadata": {
    "collapsed": false
   },
   "outputs": [
    {
     "name": "stdout",
     "output_type": "stream",
     "text": [
      "str\n",
      "文字    A\n",
      "10進数  65\n",
      "16進数  0x41\n",
      "逆変換  A\n",
      "\n",
      "unicode\n",
      "文字    あ\n",
      "10進数  12354\n",
      "16進数  0x3042\n",
      "逆変換  あ\n",
      "\n"
     ]
    }
   ],
   "source": [
    "string_byte(\"A\")\n",
    "string_byte(u\"あ\")\n",
    "#string_byte(\"あ\") # ordはunicode"
   ]
  },
  {
   "cell_type": "markdown",
   "metadata": {},
   "source": [
    "| フォーマット | 型(C)              | 型の説明       | Standard size |\n",
    "|--------------|--------------------|----------------|----------|\n",
    "| x            | pad byte           |                |          |\n",
    "| c            | char               | 長さ１の文字列 | 1        |\n",
    "| b            | signed char        | 整数型         | 1        |\n",
    "| B            | unsigned char      | 整数型         | 1        |\n",
    "| ?            | \\_Bool             | 真偽値型       | 1        |\n",
    "| h            | short              | 整数型         | 1        |\n",
    "| H            | unsigned short     | 整数型         | 2        |\n",
    "| i            | int                | 整数型         | 4        |\n",
    "| I            | unsigned int       | 整数型         | 4        |\n",
    "| l            | long               | 整数型         | 4        |\n",
    "| L            | unsigned long      | 整数型         | 4        |\n",
    "| q            | long long          | 整数型         | 8        |\n",
    "| Q            | unsigned long long | 整数型         | 8        |\n",
    "| f            | float              | 浮動小数点型   | 4        |\n",
    "| d            | double             | 浮動小数点型   | 8        |\n",
    "| s            | char[]             | 文字列         |          |\n",
    "| p            | char[]             | 文字列         |          |\n",
    "| P            | void\\*             | 整数型         |          |\n",
    "\n",
    "| 文字 | バイトオーダ                        | サイズ   | アラインメント |\n",
    "|------|-------------------------------------|----------|----------------|\n",
    "| @    | native                              | native   | native         |\n",
    "| =    | native                              | standard | none           |\n",
    "| <\t   | リトルエンディアン                  | standard | none           |\n",
    "| >\t   | ビッグエンディアン                  | standard | none           |\n",
    "| !    | ネットワーク (= ビッグエンディアン) | standard | none           |"
   ]
  },
  {
   "cell_type": "code",
   "execution_count": 6,
   "metadata": {
    "collapsed": false
   },
   "outputs": [
    {
     "data": {
      "text/plain": [
       "'\\xe3\\x81\\x82\\xe3\\x81'"
      ]
     },
     "execution_count": 6,
     "metadata": {},
     "output_type": "execute_result"
    }
   ],
   "source": [
    "#ビッグエンディアンで文字列「あいうえお」を表示\n",
    "struct.pack(\"<5s\", \"あいうえお\")"
   ]
  },
  {
   "cell_type": "code",
   "execution_count": 7,
   "metadata": {
    "collapsed": false
   },
   "outputs": [
    {
     "data": {
      "text/plain": [
       "'\\xe3\\x81\\x82\\xe3\\x81'"
      ]
     },
     "execution_count": 7,
     "metadata": {},
     "output_type": "execute_result"
    }
   ],
   "source": [
    "#リトルエンディアンで文字列「あいうえお」を表示\n",
    "struct.pack(\">5s\", \"あいうえお\")"
   ]
  },
  {
   "cell_type": "code",
   "execution_count": 8,
   "metadata": {
    "collapsed": false
   },
   "outputs": [
    {
     "data": {
      "text/plain": [
       "'@H\\xf5\\xc3'"
      ]
     },
     "execution_count": 8,
     "metadata": {},
     "output_type": "execute_result"
    }
   ],
   "source": [
    "#ビッグエンディアンで3.14を表示\n",
    "struct.pack(\">f\", 3.14)"
   ]
  },
  {
   "cell_type": "code",
   "execution_count": 9,
   "metadata": {
    "collapsed": false
   },
   "outputs": [
    {
     "data": {
      "text/plain": [
       "'\\xc3\\xf5H@'"
      ]
     },
     "execution_count": 9,
     "metadata": {},
     "output_type": "execute_result"
    }
   ],
   "source": [
    "#リトルエンディアンで3.14を表示\n",
    "struct.pack(\"<f\", 3.14)"
   ]
  },
  {
   "cell_type": "code",
   "execution_count": 10,
   "metadata": {
    "collapsed": false
   },
   "outputs": [
    {
     "data": {
      "text/plain": [
       "'@H\\xf5\\xc3D\\xc7\\x00\\x00'"
      ]
     },
     "execution_count": 10,
     "metadata": {},
     "output_type": "execute_result"
    }
   ],
   "source": [
    "#2つの数字を並べて表示\n",
    "struct.pack(\">2f\", 3.14, 1592)"
   ]
  },
  {
   "cell_type": "markdown",
   "metadata": {},
   "source": [
    "https://ja.wikipedia.org/wiki/IEEE_754\n",
    "\n",
    "IEEE 754（IEEE 浮動小数点数演算標準）\n",
    "\n",
    "<img src=\"./ieee754_double.png\">\n",
    "\n",
    "$(−1)^s × c × b^q$  \n",
    "s : 符号（0または1）  \n",
    "c : 仮数  \n",
    "q : 指数  \n",
    "b : 基数 (2または10)  "
   ]
  },
  {
   "cell_type": "markdown",
   "metadata": {},
   "source": [
    "### データをdouble型としてバイナリ化する。"
   ]
  },
  {
   "cell_type": "code",
   "execution_count": 11,
   "metadata": {
    "collapsed": false
   },
   "outputs": [
    {
     "data": {
      "text/plain": [
       "'\\xc0\\t\\x1e\\xb8Q\\xeb\\x85\\x1f'"
      ]
     },
     "execution_count": 11,
     "metadata": {},
     "output_type": "execute_result"
    }
   ],
   "source": [
    "data = -3.14\n",
    "binarizedAsDouble = struct.pack(\">d\", data)\n",
    "binarizedAsDouble"
   ]
  },
  {
   "cell_type": "markdown",
   "metadata": {},
   "source": [
    "### バイト列をunsigned long long型として解釈しなおす。   \n",
    "double型もunsigned long long型も64bitなので、ちょうど一つの値に解釈しなおすことができる。"
   ]
  },
  {
   "cell_type": "code",
   "execution_count": 12,
   "metadata": {
    "collapsed": false
   },
   "outputs": [
    {
     "data": {
      "text/plain": [
       "13837625107069764895L"
      ]
     },
     "execution_count": 12,
     "metadata": {},
     "output_type": "execute_result"
    }
   ],
   "source": [
    "unpackedAsULL = struct.unpack('>Q', binarizedAsDouble)[0]\n",
    "unpackedAsULL"
   ]
  },
  {
   "cell_type": "markdown",
   "metadata": {},
   "source": [
    "### unsigned long long型で解釈し直したデータをバイナリデータとして見てみる。  \n",
    "接頭辞の0bは二進数であることを示している。  \n",
    "接頭辞の分だけ長くなっているので、lenで長さを測ると64+2=66bitになっている。  \n",
    "\\* 正の数をバイナリ化すると符号の部分が0になるため、lenで長さを測ると符号部が省略された63bitが返されてしまう。"
   ]
  },
  {
   "cell_type": "code",
   "execution_count": 13,
   "metadata": {
    "collapsed": false
   },
   "outputs": [
    {
     "name": "stdout",
     "output_type": "stream",
     "text": [
      "0b1100000000001001000111101011100001010001111010111000010100011111\n",
      "66 bit\n"
     ]
    }
   ],
   "source": [
    "print bin(unpackedAsULL)\n",
    "print len(bin(unpackedAsULL)), 'bit'"
   ]
  },
  {
   "cell_type": "markdown",
   "metadata": {},
   "source": [
    "IEEE754規格では、右から64bit目が符号を表している。  \n",
    "ビット演算を行い、`unpackedAsULL`を63ビット右にシフトする。こうすることで、`unpackedAsULL`の右側63bit分の情報が消えて、最上位の64bit目の情報だけが取れる。"
   ]
  },
  {
   "cell_type": "code",
   "execution_count": 14,
   "metadata": {
    "collapsed": false
   },
   "outputs": [
    {
     "data": {
      "text/plain": [
       "1L"
      ]
     },
     "execution_count": 14,
     "metadata": {},
     "output_type": "execute_result"
    }
   ],
   "source": [
    "sign = (unpackedAsULL >> 63)\n",
    "sign"
   ]
  },
  {
   "cell_type": "markdown",
   "metadata": {},
   "source": [
    "IEEE754規格では、右から53〜63bit目が指数を表している。  \n",
    "指数はバイアスの`1023`が乗っかっているので、実際は`exp-1023`が指数である。"
   ]
  },
  {
   "cell_type": "code",
   "execution_count": 15,
   "metadata": {
    "collapsed": false
   },
   "outputs": [
    {
     "name": "stdout",
     "output_type": "stream",
     "text": [
      "1024\n",
      "0b10000000000\n"
     ]
    }
   ],
   "source": [
    "bin((1<<11)-1)  # 11 bit分のTrue。右から12bit目はFalse。\n",
    "bin(unpackedAsULL >> 52) # 左から12 bitの情報\n",
    "exp = (unpackedAsULL >> 52) & ((1<<11)-1) # 左から12 bitの情報を取り出し、さらに符号を表す一番左のbit情報を落す\n",
    "print exp\n",
    "print bin(exp)"
   ]
  },
  {
   "cell_type": "markdown",
   "metadata": {},
   "source": [
    "IEEE754規格では、1〜52bit目が仮数を表している。"
   ]
  },
  {
   "cell_type": "code",
   "execution_count": 16,
   "metadata": {
    "collapsed": false
   },
   "outputs": [
    {
     "name": "stdout",
     "output_type": "stream",
     "text": [
      "2567051787601183\n",
      "0b1001000111101011100001010001111010111000010100011111\n",
      "01001000111101011100001010001111010111000010100011111\n",
      "10000000000000000000000000000000000000000000000000000\n",
      "0b11001000111101011100001010001111010111000010100011111\n"
     ]
    }
   ],
   "source": [
    "frac = unpackedAsULL & ((1<<52)-1)\n",
    "print frac\n",
    "print \"{:}\".format(bin(frac))\n",
    "print bin(frac)[2:].zfill(53)\n",
    "print bin(1<<52)[2:]\n",
    "print bin(frac | 1<<52)"
   ]
  },
  {
   "cell_type": "markdown",
   "metadata": {},
   "source": [
    "double型の仮数は52bitなので、53bitでしか表現できない数の最小値（`1<<52`）で正規化されている。  \n",
    "つまり、`1<<52 = 4,503,599,627,370,496`倍の値が格納されている。"
   ]
  },
  {
   "cell_type": "code",
   "execution_count": 17,
   "metadata": {
    "collapsed": false
   },
   "outputs": [
    {
     "name": "stdout",
     "output_type": "stream",
     "text": [
      "0b10000000000000000000000000000000000000000000000000000 53 bit\n",
      "4503599627370496\n",
      "0.57\n"
     ]
    }
   ],
   "source": [
    "print bin(1<<52), len(bin(1<<52)[2:]), 'bit'\n",
    "print \"{:.0f}\".format(1<<52)\n",
    "frac2 = frac/float(1<<52)\n",
    "print frac2"
   ]
  },
  {
   "cell_type": "markdown",
   "metadata": {},
   "source": [
    "https://ja.wikipedia.org/wiki/倍精度浮動小数点数  \n",
    "倍精度浮動小数点数は  \n",
    "$\\displaystyle{ (-1)^{sign} \\Bigg( 1 + \\sum^{52}_{i=1} b_{-i} 2^{-i} \\Bigg) \\times 2^{exp-1023} }$"
   ]
  },
  {
   "cell_type": "code",
   "execution_count": 18,
   "metadata": {
    "collapsed": false
   },
   "outputs": [
    {
     "data": {
      "text/plain": [
       "-3.14"
      ]
     },
     "execution_count": 18,
     "metadata": {},
     "output_type": "execute_result"
    }
   ],
   "source": [
    "(-1)**sign * (1+frac2) * (2 ** (exp-1023))"
   ]
  },
  {
   "cell_type": "markdown",
   "metadata": {},
   "source": [
    "# 16進数表記の半精度バイナリデータの変換\n",
    "\n",
    "<img src=\"./ieee754_half.png\">"
   ]
  },
  {
   "cell_type": "markdown",
   "metadata": {},
   "source": [
    "NumPyの半精度浮動小数点数 0.5625 が、npy ファイルでは 80 38 と記録されている。  \n",
    "リトルエンディアンであることに注意して、バイト列 80 38 から浮動小数点数に復号化する。  \n",
    "リトルエンディアンなので読み込み順は後ろからとなり、16進数表記は 0x 38 80 であることに注意。"
   ]
  },
  {
   "cell_type": "code",
   "execution_count": 19,
   "metadata": {
    "collapsed": true
   },
   "outputs": [],
   "source": [
    "class binary16(object):\n",
    "    nbit_tot = 15\n",
    "    nbit_exp = 5\n",
    "    nbit_frac = 10\n",
    "    exp_bias = 15\n",
    "\n",
    "class binary64(object):\n",
    "    nbit_tot = 64\n",
    "    nbit_exp = 11\n",
    "    nbit_frac = 52\n",
    "    exp_bias = 1023\n",
    "    \n",
    "def code2number(code, floatFormat):\n",
    "    sign = code>>floatFormat.nbit_tot\n",
    "    exp = (code>>floatFormat.nbit_frac) & ((1<<floatFormat.nbit_exp)-1)\n",
    "    frac = code & ((1<<floatFormat.nbit_frac)-1)\n",
    "    frac2 = frac/float(1<<floatFormat.nbit_frac)\n",
    "    return (-1)**sign * (1+frac2) * (2 ** (exp-floatFormat.exp_bias))"
   ]
  },
  {
   "cell_type": "code",
   "execution_count": 20,
   "metadata": {
    "collapsed": false
   },
   "outputs": [
    {
     "name": "stdout",
     "output_type": "stream",
     "text": [
      "0.5625\n"
     ]
    }
   ],
   "source": [
    "# 16進数で3880は、半精度実数で0.5625に相当\n",
    "print code2number(0x3880, binary16())"
   ]
  },
  {
   "cell_type": "code",
   "execution_count": 21,
   "metadata": {
    "collapsed": false
   },
   "outputs": [
    {
     "name": "stdout",
     "output_type": "stream",
     "text": [
      "1.11253692926e-308\n"
     ]
    }
   ],
   "source": [
    "# 16進数で3880は、倍精度実数で1.11253692926e-308に相当\n",
    "print code2number(0x3880, binary64())"
   ]
  },
  {
   "cell_type": "code",
   "execution_count": null,
   "metadata": {
    "collapsed": true
   },
   "outputs": [],
   "source": []
  }
 ],
 "metadata": {
  "kernelspec": {
   "display_name": "Python 2",
   "language": "python",
   "name": "python2"
  },
  "language_info": {
   "codemirror_mode": {
    "name": "ipython",
    "version": 2
   },
   "file_extension": ".py",
   "mimetype": "text/x-python",
   "name": "python",
   "nbconvert_exporter": "python",
   "pygments_lexer": "ipython2",
   "version": "2.7.13"
  }
 },
 "nbformat": 4,
 "nbformat_minor": 2
}
